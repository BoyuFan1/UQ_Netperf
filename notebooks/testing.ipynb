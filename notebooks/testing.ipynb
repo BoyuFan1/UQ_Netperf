{
 "cells": [
  {
   "cell_type": "code",
   "execution_count": 7,
   "id": "310b3b1f-02a1-4041-9d65-3a8ea7598150",
   "metadata": {},
   "outputs": [],
   "source": [
    "# standard import\n",
    "import pandas as pd\n",
    "import numpy as np\n",
    "import matplotlib.pyplot as plt\n",
    "import matplotlib.ticker as mticker\n",
    "import seaborn as sns\n",
    "import pyreadr\n",
    "\n",
    "# sklearn\n",
    "from sklearn.linear_model import (\n",
    "    LinearRegression,\n",
    "    RidgeCV,\n",
    "    LassoCV,\n",
    "    ElasticNetCV,\n",
    "    # HuberRegressor,\n",
    "    # QuantileRegressor,\n",
    ")\n",
    "from sklearn.model_selection import train_test_split, GridSearchCV\n",
    "from sklearn.ensemble import (\n",
    "    RandomForestRegressor,\n",
    "    ExtraTreesRegressor,\n",
    "    AdaBoostRegressor,\n",
    ")\n",
    "from sklearn.utils import resample\n",
    "from sklearn.metrics import r2_score, mean_squared_error, mean_absolute_error\n",
    "from sklearn.impute import SimpleImputer, KNNImputer\n",
    "from sklearn.pipeline import make_pipeline\n",
    "from sklearn.preprocessing import StandardScaler, PolynomialFeatures, MinMaxScaler\n",
    "from sklearn.datasets import make_regression\n",
    "from sklearn import datasets\n",
    "\n",
    "# miscilaneous models\n",
    "from xgboost import XGBRegressor\n",
    "\n",
    "# from quantile_forest import RandomForestQuantileRegressor\n",
    "# from imodels import get_clean_dataset\n",
    "from joblib import Parallel, delayed\n",
    "\n",
    "# from exp_utils import *\n",
    "\n",
    "# from methods import *\n",
    "import time\n",
    "from scipy.stats import multivariate_normal\n",
    "import pickle\n",
    "import blosc\n",
    "import os\n",
    "\n",
    "from gamma_algo import *\n",
    "import itertools\n",
    "from copy import deepcopy\n",
    "import warnings"
   ]
  },
  {
   "cell_type": "code",
   "execution_count": 8,
   "id": "e8765aef-6202-44cf-8828-412f34b87587",
   "metadata": {},
   "outputs": [],
   "source": [
    "# methods\n",
    "from pcs_UQ import PCS_UQ"
   ]
  },
  {
   "cell_type": "code",
   "execution_count": 9,
   "id": "6bd69328-01d6-4472-b256-3a9748d6e877",
   "metadata": {},
   "outputs": [],
   "source": [
    "models = {\n",
    "            \"linear\": {\"Ridge\": RidgeCV(), \n",
    "                       \"Lasso\": LassoCV(max_iter=5000, random_state=777), \n",
    "                       \"ElasticNet\": ElasticNetCV(max_iter=5000, random_state=777)},\n",
    "            \"bagging\": {\"ExtraTrees\": ExtraTreesRegressor(min_samples_leaf = 5, max_features = 0.33, n_estimators = 100, random_state=777), \n",
    "                        \"RandomForest\": RandomForestRegressor(min_samples_leaf = 5, max_features = 0.33, n_estimators = 100, random_state=777)},\n",
    "            \"boosting\": {\"XGBoost\": XGBRegressor(random_state=777), \n",
    "                         \"AdaBoost\": AdaBoostRegressor(random_state=777)}\n",
    "        }"
   ]
  },
  {
   "cell_type": "code",
   "execution_count": 10,
   "id": "58491c54-c912-4d8b-8460-e301432bf1df",
   "metadata": {},
   "outputs": [],
   "source": [
    "def root_mean_squared_error(y_true, y_pred):\n",
    "    return np.sqrt(np.mean((y_true - y_pred) ** 2))"
   ]
  },
  {
   "cell_type": "markdown",
   "id": "da9f6120-0860-4e4d-8a83-07f756ffb221",
   "metadata": {},
   "source": [
    "---\n",
    "\n",
    "#### testing methods"
   ]
  },
  {
   "cell_type": "code",
   "execution_count": 11,
   "id": "c93b3cd7-6491-48c6-9eb9-4bc210addcef",
   "metadata": {},
   "outputs": [],
   "source": [
    "X, y = make_regression(n_samples=700, n_features=5, noise=0.4, random_state=42)\n",
    "\n",
    "X_train_val, X_test, y_train_val, y_test = (\n",
    "    train_test_split(X, y, test_size=0.2, random_state=77)\n",
    ")\n",
    "X_train, X_val, y_train, y_val = train_test_split(\n",
    "    X_train_val, y_train_val, test_size=0.4, random_state=77\n",
    ")\n"
   ]
  },
  {
   "cell_type": "code",
   "execution_count": 15,
   "id": "f95b9a14-e038-441e-bc99-55835beb451e",
   "metadata": {},
   "outputs": [
    {
     "name": "stdout",
     "output_type": "stream",
     "text": [
      "Evaluation complete, here's the result\n",
      "  model_group         model        rmse        mae        r2\n",
      "0      linear         Ridge    0.415525   0.330065  0.999993\n",
      "1      linear         Lasso    0.492071   0.395093  0.999990\n",
      "2      linear    ElasticNet   14.514980  11.390004  0.991077\n",
      "3     bagging    ExtraTrees  121.693175  94.529954  0.372804\n",
      "4     bagging  RandomForest   74.845813  56.151688  0.762750\n",
      "5    boosting       XGBoost   50.101189  38.283539  0.893692\n",
      "6    boosting      AdaBoost   66.037484  50.358840  0.815306\n",
      "Bootstrapping\n"
     ]
    }
   ],
   "source": [
    "gamma_params = {\n",
    "    \"selection_mode\": \"multiplicative\",\n",
    "    \"fit_mode\": \"vanilla\",\n",
    "    \"threshold\": 0.1,\n",
    "    \"clip_mode\": \"no_scale\"\n",
    "    }\n",
    "\n",
    "pcs_uq = PCS_UQ(models)\n",
    "\n",
    "results = pcs_uq.train(\n",
    "    x_train=X_train, \n",
    "    x_val=X_val, \n",
    "    y_train=y_train, \n",
    "    y_val=y_val, \n",
    "    file_name='test', \n",
    ")"
   ]
  },
  {
   "cell_type": "code",
   "execution_count": 16,
   "id": "b79062bc-9597-42bd-af4c-8dd221fe2c02",
   "metadata": {},
   "outputs": [
    {
     "name": "stdout",
     "output_type": "stream",
     "text": [
      "processing data\n"
     ]
    }
   ],
   "source": [
    "val_results_df = pcs_uq.calibrate(\n",
    "    x_val=X_val,\n",
    "    y_val=y_val,\n",
    "    gamma_params=gamma_params,\n",
    "    best=\"all\"\n",
    ")\n",
    "test_results_df = pcs_uq.predict(x_test=X_test)\n",
    "pcs_evaluation_results = pcs_uq.evaluate(y_test=y_test)"
   ]
  },
  {
   "cell_type": "code",
   "execution_count": 17,
   "id": "85c25121-4ba6-4764-b4bf-1459375c6882",
   "metadata": {},
   "outputs": [
    {
     "data": {
      "text/html": [
       "<div>\n",
       "<style scoped>\n",
       "    .dataframe tbody tr th:only-of-type {\n",
       "        vertical-align: middle;\n",
       "    }\n",
       "\n",
       "    .dataframe tbody tr th {\n",
       "        vertical-align: top;\n",
       "    }\n",
       "\n",
       "    .dataframe thead th {\n",
       "        text-align: right;\n",
       "    }\n",
       "</style>\n",
       "<table border=\"1\" class=\"dataframe\">\n",
       "  <thead>\n",
       "    <tr style=\"text-align: right;\">\n",
       "      <th></th>\n",
       "      <th>coverage</th>\n",
       "      <th>avg_length</th>\n",
       "      <th>median_length</th>\n",
       "      <th>range_y_test</th>\n",
       "      <th>alpha</th>\n",
       "      <th>scaled_avg_length</th>\n",
       "      <th>scaled_median_length</th>\n",
       "    </tr>\n",
       "  </thead>\n",
       "  <tbody>\n",
       "    <tr>\n",
       "      <th>0</th>\n",
       "      <td>0.842857</td>\n",
       "      <td>41.902847</td>\n",
       "      <td>38.773972</td>\n",
       "      <td>810.111366</td>\n",
       "      <td>0.1</td>\n",
       "      <td>0.051725</td>\n",
       "      <td>0.047863</td>\n",
       "    </tr>\n",
       "  </tbody>\n",
       "</table>\n",
       "</div>"
      ],
      "text/plain": [
       "   coverage  avg_length  median_length  range_y_test  alpha  \\\n",
       "0  0.842857   41.902847      38.773972    810.111366    0.1   \n",
       "\n",
       "   scaled_avg_length  scaled_median_length  \n",
       "0           0.051725              0.047863  "
      ]
     },
     "execution_count": 17,
     "metadata": {},
     "output_type": "execute_result"
    }
   ],
   "source": [
    "pcs_evaluation_results"
   ]
  },
  {
   "cell_type": "markdown",
   "id": "0d983871-ea35-4612-818e-4af6060f1b7a",
   "metadata": {},
   "source": [
    "---\n",
    "\n",
    "#### testing on networking data"
   ]
  },
  {
   "cell_type": "code",
   "execution_count": 18,
   "id": "b0107ae8-dbce-489d-a4dc-0cdb97e53a9c",
   "metadata": {},
   "outputs": [],
   "source": [
    "data = pd.read_csv('Jan_0529_raw.csv')\n",
    "data.drop(columns=data.columns[:2], axis=1, inplace=True)\n",
    "data.rename(columns = {'Unnamed: 0' : 'id'}, inplace=True)"
   ]
  },
  {
   "cell_type": "code",
   "execution_count": 19,
   "id": "83729a06-a4b5-4f00-89f0-99131d72d87e",
   "metadata": {},
   "outputs": [],
   "source": [
    "data['start'] = pd.to_datetime(data['start'])\n",
    "data['end'] = pd.to_datetime(data['end'])\n",
    "\n",
    "# Function to filter data within a given range\n",
    "def select_data_within_range(df, start_column, start_date, end_date):\n",
    "    if not pd.api.types.is_datetime64_any_dtype(df[start_column]):\n",
    "        df[start_column] = pd.to_datetime(df[start_column])\n",
    "\n",
    "    start_date = pd.to_datetime(start_date)\n",
    "    end_date = pd.to_datetime(end_date)\n",
    "\n",
    "    return df[(df[start_column] >= start_date) & (df[start_column] <= end_date)]\n",
    "\n",
    "# Define training and evaluation time periods\n",
    "train_start, train_end = \"2022-01-01 00:00:00\", \"2022-01-12 22:30:00\"\n",
    "eval_start, eval_end = \"2022-01-12 22:30:00\", \"2022-01-31 23:59:00\"\n",
    "\n",
    "# Split dataset into training and evaluation sets\n",
    "training_data = select_data_within_range(data, 'start', train_start, train_end)\n",
    "evaluation_data = select_data_within_range(data, 'start', eval_start, eval_end)\n",
    "\n",
    "# Select features and target variable\n",
    "features = training_data[['prev_tput', 'prev_rtt', 'prev_retx_rate', 'interval', 'prev_size', 'size_ratio']]\n",
    "target = np.log(training_data['tput']).values.ravel()\n"
   ]
  },
  {
   "cell_type": "code",
   "execution_count": 22,
   "id": "d5221853-d712-495c-b2ca-c06d8396d9f7",
   "metadata": {},
   "outputs": [
    {
     "name": "stdout",
     "output_type": "stream",
     "text": [
      "Evaluation complete, here's the result\n",
      "  model_group         model          rmse            mae            r2\n",
      "0      linear         Ridge  1.201309e+06  140055.052935 -2.503989e+12\n",
      "1      linear         Lasso  4.889038e-01       0.307635  5.852658e-01\n",
      "2      linear    ElasticNet  4.889038e-01       0.307635  5.852658e-01\n",
      "3     bagging    ExtraTrees  7.162757e-01       0.523813  1.098087e-01\n",
      "4     bagging  RandomForest  2.166541e-01       0.104303  9.185565e-01\n",
      "5    boosting       XGBoost  2.136768e-01       0.086262  9.207795e-01\n",
      "6    boosting      AdaBoost  8.394945e-01       0.780932 -2.228092e-01\n",
      "Bootstrapping\n",
      "processing data\n"
     ]
    }
   ],
   "source": [
    "# Split the dataset into training, validation, and test sets\n",
    "X_train_val, X_test, y_train_val, y_test = train_test_split(features, target, test_size=0.2, random_state=77)\n",
    "X_train, X_val, y_train, y_val = train_test_split(X_train_val, y_train_val, test_size=0.4, random_state=77)\n",
    "\n",
    "# Define gamma parameters\n",
    "gamma_params = {\n",
    "    \"selection_mode\": \"multiplicative\",\n",
    "    \"fit_mode\": \"vanilla\",\n",
    "    \"threshold\": 0.1,\n",
    "    \"clip_mode\": \"no_scale\"\n",
    "    }\n",
    "\n",
    "pcs_uq = PCS_UQ(models)\n",
    "\n",
    "# Train PCS_UQ model\n",
    "results = pcs_uq.train(\n",
    "    x_train=X_train, \n",
    "    x_val=X_val, \n",
    "    y_train=y_train, \n",
    "    y_val=y_val, \n",
    "    file_name='Jan_0529'\n",
    ")\n",
    "\n",
    "# Perform calibration\n",
    "val_results_df = pcs_uq.calibrate(\n",
    "    x_val=X_val,\n",
    "    y_val=y_val,\n",
    "    gamma_params=gamma_params,\n",
    "    best=\"all\"\n",
    ")\n",
    "\n",
    "# Make predictions on the test set\n",
    "test_results_df = pcs_uq.predict(x_test=X_test)\n",
    "\n",
    "# Evaluate the model\n",
    "pcs_evaluation_results = pcs_uq.evaluate(y_test=y_test)"
   ]
  },
  {
   "cell_type": "code",
   "execution_count": 23,
   "id": "5e4288e7-014b-4746-8191-87870a9d14c1",
   "metadata": {},
   "outputs": [
    {
     "data": {
      "text/html": [
       "<div>\n",
       "<style scoped>\n",
       "    .dataframe tbody tr th:only-of-type {\n",
       "        vertical-align: middle;\n",
       "    }\n",
       "\n",
       "    .dataframe tbody tr th {\n",
       "        vertical-align: top;\n",
       "    }\n",
       "\n",
       "    .dataframe thead th {\n",
       "        text-align: right;\n",
       "    }\n",
       "</style>\n",
       "<table border=\"1\" class=\"dataframe\">\n",
       "  <thead>\n",
       "    <tr style=\"text-align: right;\">\n",
       "      <th></th>\n",
       "      <th>coverage</th>\n",
       "      <th>avg_length</th>\n",
       "      <th>median_length</th>\n",
       "      <th>range_y_test</th>\n",
       "      <th>alpha</th>\n",
       "      <th>scaled_avg_length</th>\n",
       "      <th>scaled_median_length</th>\n",
       "    </tr>\n",
       "  </thead>\n",
       "  <tbody>\n",
       "    <tr>\n",
       "      <th>0</th>\n",
       "      <td>0.870696</td>\n",
       "      <td>0.607568</td>\n",
       "      <td>0.559539</td>\n",
       "      <td>10.898026</td>\n",
       "      <td>0.1</td>\n",
       "      <td>0.05575</td>\n",
       "      <td>0.051343</td>\n",
       "    </tr>\n",
       "  </tbody>\n",
       "</table>\n",
       "</div>"
      ],
      "text/plain": [
       "   coverage  avg_length  median_length  range_y_test  alpha  \\\n",
       "0  0.870696    0.607568       0.559539     10.898026    0.1   \n",
       "\n",
       "   scaled_avg_length  scaled_median_length  \n",
       "0            0.05575              0.051343  "
      ]
     },
     "execution_count": 23,
     "metadata": {},
     "output_type": "execute_result"
    }
   ],
   "source": [
    "pcs_evaluation_results"
   ]
  },
  {
   "cell_type": "code",
   "execution_count": null,
   "id": "5dd85f46-8b65-41f4-8db2-b0e46310e9e0",
   "metadata": {},
   "outputs": [],
   "source": []
  }
 ],
 "metadata": {
  "kernelspec": {
   "display_name": "“TorchEnv”",
   "language": "python",
   "name": "mytorchenv"
  },
  "language_info": {
   "codemirror_mode": {
    "name": "ipython",
    "version": 3
   },
   "file_extension": ".py",
   "mimetype": "text/x-python",
   "name": "python",
   "nbconvert_exporter": "python",
   "pygments_lexer": "ipython3",
   "version": "3.9.17"
  }
 },
 "nbformat": 4,
 "nbformat_minor": 5
}
